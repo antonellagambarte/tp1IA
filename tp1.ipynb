{
 "cells": [
  {
   "cell_type": "markdown",
   "id": "170f2ecf",
   "metadata": {},
   "source": [
    "# **Resolución TP1: Algoritmos de búsqueda en Torre de Hanoi**\n",
    "\n",
    "## 1. ¿Cuáles son los PEAS de este problema?\n",
    "\n",
    "###\n",
    "\n",
    "- **Perfomance**: partiendo del estado inicial (cinco discos apilados de en varilla 1) moverlos a varilla 3, respetando las reglas del juego.\n",
    "\n",
    "- **Enviroment**: cinco discos de distintos tamaños, base con tres varillas.\n",
    "\n",
    "- **Actuators**:\n",
    "\n",
    "- **Sensors**: detección del estado actual de las varillas (discos en cada una y orden de esos discos).\n",
    "\n",
    "## 2. ¿Cuáles son las propiedades del entorno de trabajo?\n",
    "\n",
    "###\n",
    "\n",
    "- **Totalmente observable**: el agente puede ver en todo momento el estado del entorno (posición de los discos en cada varilla).\n",
    "\n",
    "- **Determinista**: el siguiente estado esta determinado por el estado actual y la acción que ejecuta el agente.\n",
    "\n",
    "- **Secuencial**: la decisión actual puede afectar las decisiones futuras.\n",
    "\n",
    "- **Estático**: el entorno no se modifica mientras el agente delibera.\n",
    "\n",
    "- **Discreto**: tiene un número finito de estados distintos.\n",
    "\n",
    "- **Agente individual**\n"
   ]
  }
 ],
 "metadata": {
  "kernelspec": {
   "display_name": "ia_env",
   "language": "python",
   "name": "python3"
  },
  "language_info": {
   "name": "python",
   "version": "3.11.12"
  }
 },
 "nbformat": 4,
 "nbformat_minor": 5
}
