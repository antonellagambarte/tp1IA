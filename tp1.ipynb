{
 "cells": [
  {
   "cell_type": "markdown",
   "id": "170f2ecf",
   "metadata": {},
   "source": [
    "# **Resolución TP1: Algoritmos de búsqueda en Torre de Hanoi**\n",
    "\n",
    "## 1. ¿Cuáles son los PEAS de este problema?\n",
    "\n",
    "- **Perfomance**: partiendo del estado inicial (cinco discos apilados de en varilla 1) moverlos a varilla 3, respetando las reglas del juego.\n",
    "\n",
    "- **Enviroment**: cinco discos de distintos tamaños, base con tres varillas.\n",
    "\n",
    "- **Actuators**:\n",
    "\n",
    "- **Sensors**: detección del estado actual de las varillas (discos en cada una y orden de esos discos).\n",
    "\n",
    "## 2. ¿Cuáles son las propiedades del entorno de trabajo?\n",
    "\n",
    "- **Totalmente observable**: el agente puede ver en todo momento el estado del entorno (posición de los discos en cada varilla).\n",
    "\n",
    "- **Determinista**: el siguiente estado esta determinado por el estado actual y la acción que ejecuta el agente.\n",
    "\n",
    "- **Secuencial**: la decisión actual puede afectar las decisiones futuras.\n",
    "\n",
    "- **Estático**: el entorno no se modifica mientras el agente delibera.\n",
    "\n",
    "- **Discreto**: tiene un número finito de estados distintos.\n",
    "\n",
    "- **Agente individual**"
   ]
  },
  {
   "cell_type": "markdown",
   "id": "c661c7e5",
   "metadata": {},
   "source": [
    "## 3. En el contexto de este problema, defina los siguientes conceptos:\n",
    "- **Estado**: Una configuración específica de los discos en las tres varillas, indicando en qué varilla está cada disco y su orden.\n",
    "- **Espacio de estados**: El conjunto de todos los posibles estados alcanzables mediante movimientos válidos de los discos en las distintas varillas.\n",
    "- **Árbol de búsqueda**: Representación de todos los estados posibles (nodos) y cómo llegamos a ellos (rama). Se recorren los caminos desde el estado inicias hasta llegar a al estado objetivo.\n",
    "- **Nodo de búsqueda**: Configuración intermedia de los discos entre el estado inicial y el final representada por un nodo en el árbol de búsqueda. En este nodo se sabe cómo se llegó a este estado, es decir, cuáles fueron las configuraciones y acciones previas (camino de la rama), qué número de movimiento es el actual (profundidad) y cuál es el costo acumulado.\n",
    "- **Objetivo**: Estado donde todos los discos están aplicados en la tercera varilla en forma de pirámide.\n",
    "- **Acción**: Movimiento permitido (rama del árbol) de uno de los discos hacia alguna de las varillas que no es la actual mientras se siga con las reglas del juego.\n",
    "- **Frontera**: Conjunto de nodos generados pero aún no explorados. Representa los posibles caminos a seguir en la búsqueda de la solución. Según el algoritmo que se use, puede ser una pila o una cola de estados a explorar."
   ]
  },
  {
   "cell_type": "markdown",
   "id": "9cd808c5",
   "metadata": {},
   "source": [
    "## 4.Implemente algún método de búsqueda.\n",
    "\n",
    "En este caso se eligió implementar el método de costo uniforme. Para asignar el costo de cada camino se aplicó la fórmula:\n",
    "\n",
    "_<center>costo_de_camino = 2^(numero_de_disco - 1)</center>_\n",
    "\n",
    "donde el número del disco va, en este problema en particular, del 1 al 5, 1 para el más pequeño y 5 para el más grande, por lo que mover un disco más grande es más costoso.\n",
    "\n",
    "### Implementación\n"
   ]
  },
  {
   "cell_type": "code",
   "execution_count": 2,
   "id": "3815e298",
   "metadata": {},
   "outputs": [],
   "source": [
    "from aima_libs.hanoi_states import ProblemHanoi, StatesHanoi\n",
    "from aima_libs.tree_hanoi import NodeHanoi\n",
    "from queue import PriorityQueue\n",
    "\n",
    "def calculate_cost(disk_number):\n",
    "    move_cost = 2 ** (disk_number - 1)\n",
    "    return move_cost\n",
    "\n",
    "def uniform_cost_search(disks_amount):\n",
    "    initial_disks = list(range(disks_amount, 0, -1))\n",
    "    initial_state = StatesHanoi(initial_disks, [], [], max_disks=disks_amount)\n",
    "    goal_state = StatesHanoi([], [], initial_disks, max_disks=disks_amount)\n",
    "    problem = ProblemHanoi(initial=initial_state, goal=goal_state)\n",
    "    #Para prioridad\n",
    "    priority_queue = PriorityQueue()\n",
    "    #Para guardar nodos visitados\n",
    "    visited_nodes = {}\n",
    "    # Raíz del árbol\n",
    "    root = NodeHanoi(state=initial_state)\n",
    "    priority_queue.put((0, root))\n",
    "\n",
    "    while not priority_queue.empty():\n",
    "        priority_value, new_node = priority_queue.get()\n",
    "        frontier_nodes=new_node.expand(problem=problem)\n",
    "        if problem.goal_test(new_node.state):\n",
    "            last_node = new_node\n",
    "            metrics = {\n",
    "                \"last_node\": last_node,\n",
    "                \"max_depth\": new_node.depth,\n",
    "                \"cost_total\": new_node.state.accumulated_cost,\n",
    "            }\n",
    "            solution= last_node.solution()\n",
    "            return last_node, solution , metrics\n",
    "\n",
    "        if new_node.state in visited_nodes and visited_nodes[new_node.state] <= priority_value:\n",
    "            continue\n",
    "\n",
    "        # Marcar el nodo como visitado con su costo acumulado\n",
    "        visited_nodes[new_node.state] = priority_value\n",
    "\n",
    "        for node in frontier_nodes:\n",
    "            total_cost=priority_value + calculate_cost(node.action.disk)\n",
    "            priority_queue.put((total_cost, node))\n",
    "        \n",
    "    \n",
    "    print(\"No se encontró la solución\")\n",
    "    metrics = {\n",
    "                \"last_node\": None,\n",
    "                \"max_depth\": None,\n",
    "                \"cost_total\": None,\n",
    "            }\n",
    "    return None, None , metrics\n"
   ]
  },
  {
   "cell_type": "markdown",
   "id": "231e4084",
   "metadata": {},
   "source": [
    "### Solución y métricas\n"
   ]
  },
  {
   "cell_type": "code",
   "execution_count": null,
   "id": "d2895cd2",
   "metadata": {},
   "outputs": [],
   "source": [
    "last_node, solution, metrics= uniform_cost_search(5)\n",
    "\n",
    "for act in solution:\n",
    "    print(act)\n",
    "\n",
    "print(metrics)"
   ]
  },
  {
   "cell_type": "markdown",
   "id": "23ac76dc",
   "metadata": {},
   "source": [
    "## 5. ¿Cuál es la complejidad teórica en tiempo y memoria del algoritmo elegido?\n",
    "- Complejidad teórica en tiempo: En el peor caso, la complejidad es O(b^d), donde b es el factor de ramificación (cantidad máxima de movimientos posibles desde un estado), d es la profundidad del nodo objetivo (cantidad de movimientos para llegar a la solución). Esto se debe a que el algoritmo puede llegar a expandir todos los nodos del espacio de estados antes de encontrar la solución óptima.\n",
    "- Complejidad teórica en memoria: También es O(b^d), ya que debe almacenar todos los nodos generados en la frontera (cola de prioridad) y los visitados.\n",
    "- Aplicado a nuestro problema el espacio de estados es O(3^n), ya que cada disco puede estar en cualquiera de las 3 varillas. Por lo tanto, tanto el tiempo como la memoria crecen exponencialmente con la cantidad de discos."
   ]
  },
  {
   "cell_type": "markdown",
   "id": "bd02fc41",
   "metadata": {},
   "source": [
    "## 6. A nivel de implementación, ¿cuánto tiempo y memoria utiliza el algoritmo? (Se recomienda ejecutarlo 10 veces y calcular el promedio y el desvío estándar de ambas métricas).\n",
    "\n",
    "#### Código para medición de tiempo de ejecución y uso de memoria\n"
   ]
  },
  {
   "cell_type": "code",
   "execution_count": null,
   "id": "7ca2fcfc",
   "metadata": {},
   "outputs": [],
   "source": [
    "%%timeit\n",
    "\n",
    "## Tiempo de ejecución\n",
    "last_node, solution, metrics= uniform_cost_search(5)"
   ]
  },
  {
   "cell_type": "code",
   "execution_count": null,
   "id": "5e9775cf",
   "metadata": {},
   "outputs": [],
   "source": [
    "import tracemalloc\n",
    "\n",
    "tracemalloc.start()\n",
    "\n",
    "metrics = uniform_cost_search(5)\n",
    "\n",
    "_, memory_peak = tracemalloc.get_traced_memory()\n",
    "memory_peak /= 1024*1024\n",
    "tracemalloc.stop()\n",
    "\n",
    "print(f\"Pico de memoria ocupada: {round(memory_peak, 2)} [MB]\", )"
   ]
  },
  {
   "cell_type": "markdown",
   "id": "1ad9722b",
   "metadata": {},
   "source": [
    "Luego de ejecutar el código 10 veces y realizar el cálculo del promedio y desvío estándar para cada métrica, se obtuvieron los siguientes resultados:\n",
    "\n",
    "**Tiempo de ejecución**\n",
    "\n",
    "_Promedio:_ 640,8 ms  \n",
    "_Desvío estándar:_ 61.86 ms\n",
    "\n",
    "**Memoria utilizada**\n",
    "\n",
    "_Promedio:_ 0.584 MB  \n",
    "_Desvío estándar:_ 0.157 MB\n"
   ]
  },
  {
   "cell_type": "markdown",
   "id": "45285337",
   "metadata": {},
   "source": [
    "Código para generar json para simulador\n"
   ]
  },
  {
   "cell_type": "code",
   "execution_count": 6,
   "id": "2c4fb805",
   "metadata": {},
   "outputs": [],
   "source": [
    "last_node, solution, metrics= uniform_cost_search(5)\n",
    "last_node.generate_solution_for_simulator()"
   ]
  },
  {
   "cell_type": "code",
   "execution_count": null,
   "id": "b8a67927",
   "metadata": {},
   "outputs": [],
   "source": []
  }
 ],
 "metadata": {
  "kernelspec": {
   "display_name": "Python 3",
   "language": "python",
   "name": "python3"
  },
  "language_info": {
   "codemirror_mode": {
    "name": "ipython",
    "version": 3
   },
   "file_extension": ".py",
   "mimetype": "text/x-python",
   "name": "python",
   "nbconvert_exporter": "python",
   "pygments_lexer": "ipython3",
   "version": "3.9.6"
  }
 },
 "nbformat": 4,
 "nbformat_minor": 5
}
