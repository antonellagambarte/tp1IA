{
 "cells": [
  {
   "cell_type": "markdown",
   "id": "170f2ecf",
   "metadata": {},
   "source": [
    "# **Resolución TP1: Algoritmos de búsqueda en Torre de Hanoi**\n",
    "\n",
    "##1. ¿Cuáles son los PEAS de este problema?\n",
    "\n",
    "### - **Perfomance**: partiendo del estado inicial (5 discos apilados de en varilla 1) mover\n"
   ]
  }
 ],
 "metadata": {
  "kernelspec": {
   "display_name": "ia_env",
   "language": "python",
   "name": "python3"
  },
  "language_info": {
   "name": "python",
   "version": "3.11.12"
  }
 },
 "nbformat": 4,
 "nbformat_minor": 5
}
